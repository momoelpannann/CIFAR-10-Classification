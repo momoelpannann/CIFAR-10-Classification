{
 "cells": [
  {
   "cell_type": "code",
   "execution_count": null,
   "metadata": {},
   "outputs": [],
   "source": [
    "import numpy as np\n",
    "import numpy as np\n",
    "import torch\n",
    "from torch.utils.data import DataLoader\n",
    "from collections import defaultdict\n",
    "import torchvision.models as models\n",
    "from sklearn.decomposition import PCA\n",
    "from sklearn.naive_bayes import GaussianNB\n",
    "from sklearn.metrics import accuracy_score, classification_report, confusion_matrix, precision_score, recall_score, f1_score\n",
    "import matplotlib.pyplot as plt\n",
    "import seaborn as sns\n",
    "import pandas as pd\n",
    "import pickle\n",
    "import joblib"
   ]
  },
  {
   "cell_type": "code",
   "execution_count": null,
   "metadata": {},
   "outputs": [],
   "source": [
    "# Load training features and labels\n",
    "train_data = torch.load('../Data/ProcessedData/train_data.pth')\n",
    "train_features_loaded = train_data['features'].cpu().numpy()\n",
    "train_labels_loaded = train_data['labels'].cpu().numpy()\n",
    "\n",
    "# Load test features and labels\n",
    "test_data = torch.load('../Data/ProcessedData/train_data.pth')\n",
    "test_features_loaded = test_data['features'].cpu().numpy()\n",
    "test_labels_loaded = test_data['labels'].cpu().numpy()\n",
    "\n",
    "# Check if the loaded data is correct\n",
    "print(f'Loaded Training Features Shape: {train_features_loaded.shape}')\n",
    "print(f'Loaded Training Labels Shape: {train_labels_loaded.shape}')\n",
    "print(f'Loaded Test Features Shape: {test_features_loaded.shape}')\n",
    "print(f'Loaded Test Labels Shape: {test_labels_loaded.shape}')\n",
    "\n",
    "# Check the first few items to verify the contents\n",
    "print(f'First training feature vector: {train_features_loaded[0]}')\n",
    "print(f'First training label: {train_labels_loaded[0]}')\n",
    "print(f'First test feature vector: {test_features_loaded[0]}')\n",
    "print(f'First test label: {test_labels_loaded[0]}')\n",
    "\n",
    "# Summarize metrics for both models\n",
    "results = []"
   ]
  },
  {
   "cell_type": "markdown",
   "metadata": {},
   "source": [
    "Implement Gaussian Naive Bayes using basic Python and NumPy"
   ]
  },
  {
   "cell_type": "code",
   "execution_count": null,
   "metadata": {},
   "outputs": [],
   "source": [
    "class NaiveBayesFromScratch:\n",
    "    def __init__(self):\n",
    "        self.mean = None\n",
    "        self.var = None\n",
    "        self.prior = None\n",
    "\n",
    "    def fit(self, X, y):\n",
    "        n_samples, n_features = X.shape\n",
    "        self.classes = np.unique(y)\n",
    "        n_classes = len(self.classes)\n",
    "\n",
    "        # Initialize mean, variance, and prior\n",
    "        self.mean = np.zeros((n_classes, n_features), dtype=np.float64)\n",
    "        self.var = np.zeros((n_classes, n_features), dtype=np.float64)\n",
    "        self.prior = np.zeros(n_classes, dtype=np.float64)\n",
    "\n",
    "        # Calculate mean, variance, and prior for each class\n",
    "        for idx, c in enumerate(self.classes):\n",
    "            X_c = X[y == c]\n",
    "            self.mean[idx, :] = X_c.mean(axis=0)\n",
    "            self.var[idx, :] = X_c.var(axis=0)\n",
    "            self.prior[idx] = X_c.shape[0] / n_samples\n",
    "\n",
    "    def _pdf(self, class_idx, x):\n",
    "        # Calculate the probability density function for Gaussian distribution\n",
    "        mean = self.mean[class_idx]\n",
    "        var = self.var[class_idx]\n",
    "        numerator = np.exp(- (x - mean) ** 2 / (2 * var))\n",
    "        denominator = np.sqrt(2 * np.pi * var)\n",
    "        return numerator / denominator\n",
    "\n",
    "    def _predict(self, x):\n",
    "        # Calculate the posterior for each class\n",
    "        posteriors = []\n",
    "        for idx, c in enumerate(self.classes):\n",
    "            prior = np.log(self.prior[idx])\n",
    "            class_conditional = np.sum(np.log(self._pdf(idx, x)))\n",
    "            posterior = prior + class_conditional\n",
    "            posteriors.append(posterior)\n",
    "        return self.classes[np.argmax(posteriors)]\n",
    "\n",
    "    def predict(self, X):\n",
    "        y_pred = [self._predict(x) for x in X]\n",
    "        return np.array(y_pred)\n",
    "    \n",
    "    def save_weights(self, filename=\"Weights/Custom_Bayesian.pth\"):\n",
    "        # Save model parameters to a file\n",
    "        with open(filename, \"wb\") as f:\n",
    "            pickle.dump({\n",
    "                \"mean\": self.mean,\n",
    "                \"var\": self.var,\n",
    "                \"prior\": self.prior,\n",
    "                \"classes\": self.classes\n",
    "            }, f)\n",
    "        print(f\"Model weights saved to {filename}\")\n",
    "\n",
    "    def load_weights(self, filename=\"Weights/Custom_Bayesian.pth\"):\n",
    "        # Load model parameters from a file\n",
    "        with open(filename, \"rb\") as f:\n",
    "            weights = pickle.load(f)\n",
    "            self.mean = weights[\"mean\"]\n",
    "            self.var = weights[\"var\"]\n",
    "            self.prior = weights[\"prior\"]\n",
    "            self.classes = weights[\"classes\"]\n",
    "        print(f\"Model weights loaded from {filename}\")\n",
    "\n",
    "        # Prepare tetsing labels Naive Bayes\n",
    "test_labels_np = test_labels_loaded\n"
   ]
  },
  {
   "cell_type": "markdown",
   "metadata": {},
   "source": [
    "Train Scratch Naive Bayes the model and save the weights "
   ]
  },
  {
   "cell_type": "code",
   "execution_count": null,
   "metadata": {},
   "outputs": [],
   "source": [
    "# Prepare training Naive Bayes\n",
    "train_labels_np = train_labels_loaded\n",
    "\n",
    "# Fit and predict using custom Naive Bayes\n",
    "nb_custom = NaiveBayesFromScratch()\n",
    "nb_custom.fit(train_features_loaded, train_labels_np)\n",
    "nb_custom.save_weights()"
   ]
  },
  {
   "cell_type": "markdown",
   "metadata": {},
   "source": [
    "Implement and Train sci-kit Bayesian "
   ]
  },
  {
   "cell_type": "code",
   "execution_count": null,
   "metadata": {},
   "outputs": [],
   "source": [
    "# Fit and predict using scikit-learn's Gaussian Naive Bayes\n",
    "nb_sklearn = GaussianNB()\n",
    "nb_sklearn.fit(train_features_loaded, train_labels_np)\n",
    "# Save the trained model to a file\n",
    "joblib.dump(nb_sklearn, 'Weights/Sklearn_Bayesian.pth')\n",
    "print(\"Scikit-learn model weights saved.\")\n"
   ]
  },
  {
   "cell_type": "markdown",
   "metadata": {},
   "source": [
    "Predict using custom bayesian saved weights "
   ]
  },
  {
   "cell_type": "markdown",
   "metadata": {},
   "source": [
    "P.S In testing flow after imports, please run the cell of dataloading (2nd cell) first then the class NaiveBayesFromScratch (3rd cell) before predicition . After predictions pleas run the last cell to display the results."
   ]
  },
  {
   "cell_type": "code",
   "execution_count": null,
   "metadata": {},
   "outputs": [],
   "source": [
    "def plot_confusion_matrix(y_true, y_pred, model_name):\n",
    "    cm = confusion_matrix(y_true, y_pred)\n",
    "    plt.figure(figsize=(8, 6))\n",
    "    sns.heatmap(cm, annot=True, fmt='d', cmap='Blues', xticklabels=range(10), yticklabels=range(10))\n",
    "    plt.xlabel('Predicted Class')\n",
    "    plt.ylabel('Actual Class')\n",
    "    plt.title(f'Confusion Matrix - {model_name}')\n",
    "    plt.show()\n",
    "def summarize_metrics(y_true, y_pred, model_name):\n",
    "    accuracy = accuracy_score(y_true, y_pred)\n",
    "    precision = precision_score(y_true, y_pred, average='macro')\n",
    "    recall = recall_score(y_true, y_pred, average='macro')\n",
    "    f1 = f1_score(y_true, y_pred, average='macro')\n",
    "    return [model_name, accuracy, precision, recall, f1]\n",
    "nb_custom = NaiveBayesFromScratch()\n",
    "nb_custom.load_weights('Weights/Custom_Bayesian.pth')\n",
    "y_pred_custom = nb_custom.predict(test_features_loaded)\n",
    "\n",
    "# Plot confusion matrices\n",
    "plot_confusion_matrix(test_labels_np, y_pred_custom, \"Custom Naive Bayes\")\n",
    "\n",
    "results.append(summarize_metrics(test_labels_np, y_pred_custom, \"Custom Naive Bayes\"))"
   ]
  },
  {
   "cell_type": "markdown",
   "metadata": {},
   "source": [
    "Predict using sci-kit bayesian saved weights"
   ]
  },
  {
   "cell_type": "markdown",
   "metadata": {},
   "source": [
    "P.S In testing flow after imports, please run the cell of dataloading (2nd cell) first then the class NaiveBayesFromScratch (3rd cell) before predicition . After predictions pleas run the last cell to display the results."
   ]
  },
  {
   "cell_type": "code",
   "execution_count": null,
   "metadata": {},
   "outputs": [],
   "source": [
    "nb_sklearn = GaussianNB()\n",
    "nb_sklearn=joblib.load('Weights/Sklearn_Bayesian.pth')\n",
    "y_pred_sklearn = nb_sklearn.predict(test_features_loaded)\n",
    "\n",
    "plot_confusion_matrix(test_labels_np, y_pred_sklearn, \"Scikit-learn Naive Bayes\")\n",
    "results.append(summarize_metrics(test_labels_np, y_pred_sklearn, \"Scikit-learn Naive Bayes\"))"
   ]
  },
  {
   "cell_type": "markdown",
   "metadata": {},
   "source": [
    "Display results of both models in a table"
   ]
  },
  {
   "cell_type": "code",
   "execution_count": null,
   "metadata": {},
   "outputs": [],
   "source": [
    "results_df = pd.DataFrame(results, columns=[\"Model\", \"Accuracy\", \"Precision\", \"Recall\", \"F1-Measure\"])\n",
    "print(results_df)"
   ]
  }
 ],
 "metadata": {
  "kernelspec": {
   "display_name": "aiproject",
   "language": "python",
   "name": "python3"
  },
  "language_info": {
   "codemirror_mode": {
    "name": "ipython",
    "version": 3
   },
   "file_extension": ".py",
   "mimetype": "text/x-python",
   "name": "python",
   "nbconvert_exporter": "python",
   "pygments_lexer": "ipython3",
   "version": "3.12.4"
  }
 },
 "nbformat": 4,
 "nbformat_minor": 2
}
